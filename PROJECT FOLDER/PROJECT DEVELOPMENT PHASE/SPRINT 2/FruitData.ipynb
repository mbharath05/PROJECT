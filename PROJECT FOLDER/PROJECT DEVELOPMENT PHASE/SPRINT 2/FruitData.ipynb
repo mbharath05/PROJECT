{
  "cells": [
    {
      "cell_type": "markdown",
      "source": [
        "# **Model Building For Fruit Disease Prediction**"
      ],
      "metadata": {
        "id": "3OYstBBNj56E"
      },
      "id": "3OYstBBNj56E"
    },
    {
      "cell_type": "code",
      "execution_count": 27,
      "id": "582259b4",
      "metadata": {
        "id": "582259b4",
        "outputId": "31b01c6d-1c94-4467-a744-57ee2a0e8a54",
        "colab": {
          "base_uri": "https://localhost:8080/"
        }
      },
      "outputs": [
        {
          "output_type": "stream",
          "name": "stdout",
          "text": [
            "\u001b[0m\u001b[01;34mdrive\u001b[0m/  \u001b[01;34msample_data\u001b[0m/\n"
          ]
        }
      ],
      "source": [
        "ls"
      ]
    },
    {
      "cell_type": "code",
      "execution_count": 28,
      "id": "882f4a46",
      "metadata": {
        "id": "882f4a46",
        "outputId": "5c51c545-6827-4cd1-a7b7-47f78ea29a6f",
        "colab": {
          "base_uri": "https://localhost:8080/",
          "height": 36
        }
      },
      "outputs": [
        {
          "output_type": "execute_result",
          "data": {
            "text/plain": [
              "'/content'"
            ],
            "application/vnd.google.colaboratory.intrinsic+json": {
              "type": "string"
            }
          },
          "metadata": {},
          "execution_count": 28
        }
      ],
      "source": [
        "pwd\n"
      ]
    },
    {
      "cell_type": "code",
      "source": [
        "from google.colab import drive\n",
        "drive.mount('/content/drive')"
      ],
      "metadata": {
        "colab": {
          "base_uri": "https://localhost:8080/"
        },
        "id": "383oUD-Aktsf",
        "outputId": "3e796091-361a-4e67-fdb9-668928d7f713"
      },
      "id": "383oUD-Aktsf",
      "execution_count": 30,
      "outputs": [
        {
          "output_type": "stream",
          "name": "stdout",
          "text": [
            "Drive already mounted at /content/drive; to attempt to forcibly remount, call drive.mount(\"/content/drive\", force_remount=True).\n"
          ]
        }
      ]
    },
    {
      "cell_type": "markdown",
      "source": [
        "### **1.Importing The Libraries**"
      ],
      "metadata": {
        "id": "uoVRiLWniy1W"
      },
      "id": "uoVRiLWniy1W"
    },
    {
      "cell_type": "code",
      "execution_count": null,
      "id": "daf8764e",
      "metadata": {
        "id": "daf8764e"
      },
      "outputs": [],
      "source": [
        "from tensorflow.keras.preprocessing.image import ImageDataGenerator\n",
        "from tensorflow.keras.models import Sequential\n",
        "from tensorflow.keras.layers import Dense,Convolution2D,MaxPooling2D,Flatten\n",
        "import numpy as np\n",
        "from tensorflow.keras.models import load_model\n",
        "from tensorflow.keras.preprocessing import image"
      ]
    },
    {
      "cell_type": "markdown",
      "source": [
        "### **2.Initializing The Model**"
      ],
      "metadata": {
        "id": "vV5tUH5ujKmG"
      },
      "id": "vV5tUH5ujKmG"
    },
    {
      "cell_type": "code",
      "execution_count": null,
      "id": "3ee1b664",
      "metadata": {
        "id": "3ee1b664"
      },
      "outputs": [],
      "source": [
        "train_datagen=ImageDataGenerator(rescale=1./255,zoom_range=0.2,horizontal_flip=True,vertical_flip=False)"
      ]
    },
    {
      "cell_type": "code",
      "execution_count": null,
      "id": "7b840c73",
      "metadata": {
        "id": "7b840c73"
      },
      "outputs": [],
      "source": [
        "test_datagen=ImageDataGenerator(rescale=1./255)\n"
      ]
    },
    {
      "cell_type": "code",
      "execution_count": null,
      "id": "6b81fedc",
      "metadata": {
        "id": "6b81fedc"
      },
      "outputs": [],
      "source": [
        "ls"
      ]
    },
    {
      "cell_type": "code",
      "execution_count": null,
      "id": "819469f8",
      "metadata": {
        "id": "819469f8"
      },
      "outputs": [],
      "source": [
        "x_train=train_datagen.flow_from_directory(r\"/content/drive/MyDrive/DataSet/Dataset Plant Disease/fruit-dataset/fruit-dataset/train\",target_size=(128,128),\n",
        "                                        class_mode='categorical',batch_size=24)"
      ]
    },
    {
      "cell_type": "code",
      "execution_count": null,
      "id": "4f3123ba",
      "metadata": {
        "id": "4f3123ba"
      },
      "outputs": [],
      "source": [
        "x_test=test_datagen.flow_from_directory(r\"/content/drive/MyDrive/DataSet/Dataset Plant Disease/fruit-dataset/fruit-dataset/test\",target_size=(128,128),\n",
        "                                        class_mode='categorical',batch_size=24)"
      ]
    },
    {
      "cell_type": "markdown",
      "source": [
        "### **3.Adding CNN Layers**"
      ],
      "metadata": {
        "id": "ipSx6gHCjWj-"
      },
      "id": "ipSx6gHCjWj-"
    },
    {
      "cell_type": "code",
      "execution_count": null,
      "id": "a430b25e",
      "metadata": {
        "id": "a430b25e"
      },
      "outputs": [],
      "source": [
        "model=Sequential()"
      ]
    },
    {
      "cell_type": "code",
      "execution_count": null,
      "id": "c253777e",
      "metadata": {
        "id": "c253777e"
      },
      "outputs": [],
      "source": [
        "model.add(Convolution2D(32,(3,3),input_shape=(128,128,3),activation='relu'))\n"
      ]
    },
    {
      "cell_type": "code",
      "execution_count": null,
      "id": "81c2b016",
      "metadata": {
        "id": "81c2b016"
      },
      "outputs": [],
      "source": [
        "model.add(MaxPooling2D(pool_size=(2,2)))\n",
        "model.add(Flatten())\n",
        "model.summary()"
      ]
    },
    {
      "cell_type": "markdown",
      "source": [
        "### **4.Adding Dense Layers**"
      ],
      "metadata": {
        "id": "CBaO9EnSjcJu"
      },
      "id": "CBaO9EnSjcJu"
    },
    {
      "cell_type": "code",
      "execution_count": null,
      "id": "624f0333",
      "metadata": {
        "id": "624f0333"
      },
      "outputs": [],
      "source": [
        "32*(3*3*3+1)\n",
        "model.add(Dense(300,activation='relu'))\n",
        "model.add(Dense(150,activation='relu'))"
      ]
    },
    {
      "cell_type": "code",
      "execution_count": null,
      "id": "110913b9",
      "metadata": {
        "id": "110913b9"
      },
      "outputs": [],
      "source": [
        "model.add(Dense(6,activation='softmax'))\n",
        "model.compile(loss='categorical_crossentropy',optimizer='adam',metrics=['accuracy'])\n",
        "len(x_train)"
      ]
    },
    {
      "cell_type": "markdown",
      "source": [
        "### **5.Training the Model**"
      ],
      "metadata": {
        "id": "bUulqEasjqrd"
      },
      "id": "bUulqEasjqrd"
    },
    {
      "cell_type": "code",
      "execution_count": 31,
      "id": "8256f689",
      "metadata": {
        "id": "8256f689",
        "outputId": "fc3af39d-558f-4de9-a600-c66d89f0f352",
        "colab": {
          "base_uri": "https://localhost:8080/"
        }
      },
      "outputs": [
        {
          "output_type": "stream",
          "name": "stdout",
          "text": [
            "Epoch 1/10\n",
            "225/225 [==============================] - 172s 764ms/step - loss: 0.2448 - accuracy: 0.9172 - val_loss: 0.2405 - val_accuracy: 0.9265\n",
            "Epoch 2/10\n",
            "225/225 [==============================] - 169s 751ms/step - loss: 0.1923 - accuracy: 0.9372 - val_loss: 0.1990 - val_accuracy: 0.9342\n",
            "Epoch 3/10\n",
            "225/225 [==============================] - 170s 755ms/step - loss: 0.1689 - accuracy: 0.9417 - val_loss: 0.2256 - val_accuracy: 0.9223\n",
            "Epoch 4/10\n",
            "225/225 [==============================] - 175s 776ms/step - loss: 0.1387 - accuracy: 0.9543 - val_loss: 0.1027 - val_accuracy: 0.9638\n",
            "Epoch 5/10\n",
            "225/225 [==============================] - 171s 762ms/step - loss: 0.1060 - accuracy: 0.9630 - val_loss: 0.1454 - val_accuracy: 0.9579\n",
            "Epoch 6/10\n",
            "225/225 [==============================] - 172s 763ms/step - loss: 0.1124 - accuracy: 0.9614 - val_loss: 0.1907 - val_accuracy: 0.9324\n",
            "Epoch 7/10\n",
            "225/225 [==============================] - 171s 760ms/step - loss: 0.1193 - accuracy: 0.9573 - val_loss: 0.1919 - val_accuracy: 0.9431\n",
            "Epoch 8/10\n",
            "225/225 [==============================] - 171s 760ms/step - loss: 0.1144 - accuracy: 0.9584 - val_loss: 0.0965 - val_accuracy: 0.9668\n",
            "Epoch 9/10\n",
            "225/225 [==============================] - 171s 758ms/step - loss: 0.1059 - accuracy: 0.9642 - val_loss: 0.1884 - val_accuracy: 0.9442\n",
            "Epoch 10/10\n",
            "225/225 [==============================] - 172s 762ms/step - loss: 0.0756 - accuracy: 0.9727 - val_loss: 0.1998 - val_accuracy: 0.9437\n"
          ]
        },
        {
          "output_type": "execute_result",
          "data": {
            "text/plain": [
              "<keras.callbacks.History at 0x7f13799efb10>"
            ]
          },
          "metadata": {},
          "execution_count": 31
        }
      ],
      "source": [
        "model.fit(x_train,steps_per_epoch=len(x_train),validation_data=x_test,validation_steps=len(x_test),epochs=10)\n"
      ]
    },
    {
      "cell_type": "markdown",
      "source": [
        "### **6.Saving the Model**"
      ],
      "metadata": {
        "id": "43D65OGajv-3"
      },
      "id": "43D65OGajv-3"
    },
    {
      "cell_type": "code",
      "execution_count": null,
      "id": "1c4448dd",
      "metadata": {
        "id": "1c4448dd"
      },
      "outputs": [],
      "source": [
        "model.save('fruitdata.h5')\n"
      ]
    },
    {
      "cell_type": "code",
      "execution_count": null,
      "id": "9b8a2bcc",
      "metadata": {
        "id": "9b8a2bcc"
      },
      "outputs": [],
      "source": [
        "model=load_model('fruitdata.h5')"
      ]
    },
    {
      "cell_type": "code",
      "execution_count": null,
      "id": "da30c453",
      "metadata": {
        "id": "da30c453"
      },
      "outputs": [],
      "source": [
        "img=image.load_img(r\"/content/drive/MyDrive/DataSet/Dataset Plant Disease/fruit-dataset/fruit-dataset/test/Apple___healthy/00fca0da-2db3-481b-b98a-9b67bb7b105c___RS_HL 7708.JPG\")\n"
      ]
    },
    {
      "cell_type": "code",
      "execution_count": null,
      "id": "f49760ac",
      "metadata": {
        "id": "f49760ac"
      },
      "outputs": [],
      "source": [
        "img"
      ]
    },
    {
      "cell_type": "code",
      "execution_count": null,
      "id": "c7a3e14c",
      "metadata": {
        "id": "c7a3e14c"
      },
      "outputs": [],
      "source": [
        "img=image.load_img(r\"/content/drive/MyDrive/DataSet/Dataset Plant Disease/fruit-dataset/fruit-dataset/test/Apple___healthy/00fca0da-2db3-481b-b98a-9b67bb7b105c___RS_HL 7708.JPG\",target_size=(128,128))\n",
        "img"
      ]
    },
    {
      "cell_type": "code",
      "execution_count": null,
      "id": "3f5ce628",
      "metadata": {
        "id": "3f5ce628"
      },
      "outputs": [],
      "source": [
        "x=image.img_to_array(img)\n"
      ]
    },
    {
      "cell_type": "code",
      "execution_count": null,
      "id": "1cc64c8f",
      "metadata": {
        "id": "1cc64c8f"
      },
      "outputs": [],
      "source": [
        "x"
      ]
    },
    {
      "cell_type": "code",
      "execution_count": null,
      "id": "45bb5d53",
      "metadata": {
        "id": "45bb5d53"
      },
      "outputs": [],
      "source": [
        "x=np.expand_dims(x,axis=0)\n"
      ]
    },
    {
      "cell_type": "code",
      "execution_count": null,
      "id": "b1975a82",
      "metadata": {
        "id": "b1975a82"
      },
      "outputs": [],
      "source": [
        "x"
      ]
    },
    {
      "cell_type": "code",
      "execution_count": null,
      "id": "a9929f1d",
      "metadata": {
        "id": "a9929f1d"
      },
      "outputs": [],
      "source": [
        "y=np.argmax(model.predict(x),axis=1)"
      ]
    },
    {
      "cell_type": "code",
      "execution_count": null,
      "id": "0d519205",
      "metadata": {
        "id": "0d519205"
      },
      "outputs": [],
      "source": [
        "x_train.class_indices"
      ]
    },
    {
      "cell_type": "code",
      "execution_count": null,
      "id": "a6e38e7e",
      "metadata": {
        "id": "a6e38e7e"
      },
      "outputs": [],
      "source": [
        "index=['Apple___Black_rot','Apple___healthy','Corn_(maize)___Northern_Leaf_Blight','Corn_(maize)___healthy','Peach___Bacterial_spot','Peach___healthy']"
      ]
    },
    {
      "cell_type": "code",
      "execution_count": null,
      "id": "47b90c62",
      "metadata": {
        "id": "47b90c62"
      },
      "outputs": [],
      "source": [
        "index[y[0]]"
      ]
    },
    {
      "cell_type": "code",
      "execution_count": null,
      "id": "209ab963",
      "metadata": {
        "id": "209ab963"
      },
      "outputs": [],
      "source": [
        "img=image.load_img(r\"/content/drive/MyDrive/DataSet/Dataset Plant Disease/fruit-dataset/fruit-dataset/test/Apple___healthy/00fca0da-2db3-481b-b98a-9b67bb7b105c___RS_HL 7708.JPG\",target_size=(128,128))\n",
        "x=image.img_to_array(img)\n",
        "x=np.expand_dims(x,axis=0)\n",
        "y=np.argmax(model.predict(x),axis=1)\n",
        "index=['Apple___Black_rot','Apple___healthy','Corn_(maize)___Northern_Leaf_Blight','Corn_(maize)___healthy','Peach___Bacterial_spot','Peach___healthy']\n",
        "index[y[0]]"
      ]
    }
  ],
  "metadata": {
    "kernelspec": {
      "display_name": "Python 3 (ipykernel)",
      "language": "python",
      "name": "python3"
    },
    "language_info": {
      "codemirror_mode": {
        "name": "ipython",
        "version": 3
      },
      "file_extension": ".py",
      "mimetype": "text/x-python",
      "name": "python",
      "nbconvert_exporter": "python",
      "pygments_lexer": "ipython3",
      "version": "3.10.8"
    },
    "colab": {
      "provenance": [],
      "collapsed_sections": []
    }
  },
  "nbformat": 4,
  "nbformat_minor": 5
}